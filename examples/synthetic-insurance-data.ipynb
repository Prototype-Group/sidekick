{
 "cells": [
  {
   "cell_type": "code",
   "execution_count": 1,
   "id": "cac0eb34",
   "metadata": {},
   "outputs": [],
   "source": [
    "import pandas as pd\n",
    "import numpy as np\n",
    "import seaborn as sns\n",
    "from tqdm.notebook import tqdm"
   ]
  },
  {
   "cell_type": "markdown",
   "id": "6554c1c2",
   "metadata": {},
   "source": [
    "# Case 1"
   ]
  },
  {
   "cell_type": "markdown",
   "id": "44976246",
   "metadata": {},
   "source": [
    "### Insurance Level\n",
    "Categorical: bronze, silver, gold\n",
    "\n",
    "### Age\n",
    "Int\n",
    "\n",
    "### Sex\n",
    "Binary\n",
    "\n",
    "### Number of dependents\n",
    "Int\n",
    "\n",
    "### if customer has chronic diseases\n",
    "Binary\n",
    "\n",
    "### Employment type \n",
    "Categorical\n",
    "\n",
    "### industry that the person works\n",
    "Categorical\n",
    "\n",
    "### Annual income \n",
    "Float\n",
    "\n",
    "### if customer has bought any insurance before\n",
    "Binary\n"
   ]
  },
  {
   "cell_type": "code",
   "execution_count": 2,
   "id": "75a0ba68",
   "metadata": {},
   "outputs": [],
   "source": [
    "columns = [\"Age\", \"Sex\", \"Annual Income\", \"Employment type\", \"Industry\", \"Family Members\", \"Chronic Disease\", \"Insurance Level\"]"
   ]
  },
  {
   "cell_type": "code",
   "execution_count": 3,
   "id": "42462576",
   "metadata": {},
   "outputs": [],
   "source": [
    "np.random.seed(0)\n",
    "n_rows = 50000"
   ]
  },
  {
   "cell_type": "code",
   "execution_count": 4,
   "id": "a39ee69a",
   "metadata": {},
   "outputs": [],
   "source": [
    "age = (np.random.beta(3,2,size=(n_rows,))*60).astype(int)+18"
   ]
  },
  {
   "cell_type": "code",
   "execution_count": 5,
   "id": "56d3de9e",
   "metadata": {},
   "outputs": [
    {
     "data": {
      "text/plain": [
       "<AxesSubplot:ylabel='Count'>"
      ]
     },
     "execution_count": 5,
     "metadata": {},
     "output_type": "execute_result"
    },
    {
     "data": {
      "image/png": "[encoded data removed]",
      "text/plain": [
       "<Figure size 432x288 with 1 Axes>"
      ]
     },
     "metadata": {
      "needs_background": "light"
     },
     "output_type": "display_data"
    }
   ],
   "source": [
    "sns.histplot(age)"
   ]
  },
  {
   "cell_type": "code",
   "execution_count": 6,
   "id": "3673156c",
   "metadata": {},
   "outputs": [],
   "source": [
    "sex = np.random.choice([\"Female\",\"Male\"],size=(n_rows,),p=[0.55,0.45])"
   ]
  },
  {
   "cell_type": "code",
   "execution_count": 7,
   "id": "c9fd808b",
   "metadata": {},
   "outputs": [
    {
     "name": "stderr",
     "output_type": "stream",
     "text": [
      "/home/markussagen/.pyenv/versions/sidekick/lib/python3.8/site-packages/seaborn/_decorators.py:36: FutureWarning: Pass the following variable as a keyword arg: x. From version 0.12, the only valid positional argument will be `data`, and passing other arguments without an explicit keyword will result in an error or misinterpretation.\n",
      "  warnings.warn(\n"
     ]
    },
    {
     "data": {
      "text/plain": [
       "<AxesSubplot:ylabel='count'>"
      ]
     },
     "execution_count": 7,
     "metadata": {},
     "output_type": "execute_result"
    },
    {
     "data": {
      "image/png": "[encoded data removed]",
      "text/plain": [
       "<Figure size 432x288 with 1 Axes>"
      ]
     },
     "metadata": {
      "needs_background": "light"
     },
     "output_type": "display_data"
    }
   ],
   "source": [
    "sns.countplot(sex)"
   ]
  },
  {
   "cell_type": "code",
   "execution_count": 8,
   "id": "bf171d27",
   "metadata": {
    "scrolled": true
   },
   "outputs": [],
   "source": [
    "dependents = np.zeros((n_rows,)).astype(int)\n",
    "for i in range(n_rows):\n",
    "    if age[i] < 20:\n",
    "        weights = [0.95,0.03,0.02,0,0]\n",
    "    elif age[i] < 30:\n",
    "        weights = [0.6,0.2,0.1,0.1,0]\n",
    "    else:\n",
    "        weights = [0.15,0.18,0.33,0.22,0.12]\n",
    "    dependents[i] = np.random.choice([0,1,2,3,4],p=weights)"
   ]
  },
  {
   "cell_type": "code",
   "execution_count": 9,
   "id": "286ccf38",
   "metadata": {},
   "outputs": [
    {
     "name": "stderr",
     "output_type": "stream",
     "text": [
      "/home/markussagen/.pyenv/versions/sidekick/lib/python3.8/site-packages/seaborn/_decorators.py:36: FutureWarning: Pass the following variable as a keyword arg: x. From version 0.12, the only valid positional argument will be `data`, and passing other arguments without an explicit keyword will result in an error or misinterpretation.\n",
      "  warnings.warn(\n"
     ]
    },
    {
     "data": {
      "text/plain": [
       "<AxesSubplot:ylabel='count'>"
      ]
     },
     "execution_count": 9,
     "metadata": {},
     "output_type": "execute_result"
    },
    {
     "data": {
      "image/png": "[encoded data removed]",
      "text/plain": [
       "<Figure size 432x288 with 1 Axes>"
      ]
     },
     "metadata": {
      "needs_background": "light"
     },
     "output_type": "display_data"
    }
   ],
   "source": [
    "sns.countplot(dependents)"
   ]
  },
  {
   "cell_type": "code",
   "execution_count": 10,
   "id": "50c3ef27",
   "metadata": {},
   "outputs": [],
   "source": [
    "has_disease = np.zeros((n_rows,)).astype(int)\n",
    "for i in range(n_rows):\n",
    "    if age[i] < 30:\n",
    "        weights = [4/5,1/5]\n",
    "    elif age[i] < 60:\n",
    "        weights = [0.6,0.4]\n",
    "    else:\n",
    "        weights = [0.3, 0.7]\n",
    "    has_disease[i] = np.random.choice([0,1],p=weights)"
   ]
  },
  {
   "cell_type": "code",
   "execution_count": 11,
   "id": "b2cf89c2",
   "metadata": {},
   "outputs": [
    {
     "name": "stderr",
     "output_type": "stream",
     "text": [
      "/home/markussagen/.pyenv/versions/sidekick/lib/python3.8/site-packages/seaborn/_decorators.py:36: FutureWarning: Pass the following variable as a keyword arg: x. From version 0.12, the only valid positional argument will be `data`, and passing other arguments without an explicit keyword will result in an error or misinterpretation.\n",
      "  warnings.warn(\n"
     ]
    },
    {
     "data": {
      "text/plain": [
       "<AxesSubplot:ylabel='count'>"
      ]
     },
     "execution_count": 11,
     "metadata": {},
     "output_type": "execute_result"
    },
    {
     "data": {
      "image/png": "[encoded data removed]",
      "text/plain": [
       "<Figure size 432x288 with 1 Axes>"
      ]
     },
     "metadata": {
      "needs_background": "light"
     },
     "output_type": "display_data"
    }
   ],
   "source": [
    "sns.countplot(has_disease)"
   ]
  },
  {
   "cell_type": "code",
   "execution_count": 12,
   "id": "59c8f2fc",
   "metadata": {},
   "outputs": [],
   "source": [
    "employment = np.zeros((n_rows,)).astype(str)\n",
    "for i in range(n_rows):\n",
    "    if age[i] < 25:\n",
    "        weights = [0.08,0.62,0.3]\n",
    "    elif age[i] < 60:\n",
    "        weights = [0.08,0.736,0.184]\n",
    "    else:\n",
    "        weights = [0.08,0.62,0.3]\n",
    "    employment[i] = np.random.choice([\"Unemployed\", \"Full-time\", \"Part-time\"],p=weights)"
   ]
  },
  {
   "cell_type": "code",
   "execution_count": 13,
   "id": "2aed9744",
   "metadata": {},
   "outputs": [
    {
     "name": "stderr",
     "output_type": "stream",
     "text": [
      "/home/markussagen/.pyenv/versions/sidekick/lib/python3.8/site-packages/seaborn/_decorators.py:36: FutureWarning: Pass the following variable as a keyword arg: x. From version 0.12, the only valid positional argument will be `data`, and passing other arguments without an explicit keyword will result in an error or misinterpretation.\n",
      "  warnings.warn(\n"
     ]
    },
    {
     "data": {
      "text/plain": [
       "<AxesSubplot:ylabel='count'>"
      ]
     },
     "execution_count": 13,
     "metadata": {},
     "output_type": "execute_result"
    },
    {
     "data": {
      "image/png": "[encoded data removed]",
      "text/plain": [
       "<Figure size 432x288 with 1 Axes>"
      ]
     },
     "metadata": {
      "needs_background": "light"
     },
     "output_type": "display_data"
    }
   ],
   "source": [
    "sns.countplot(employment)"
   ]
  },
  {
   "cell_type": "code",
   "execution_count": 14,
   "id": "7d5f1202",
   "metadata": {},
   "outputs": [],
   "source": [
    "industry_dict = {\n",
    "    \"Agriculture\": 46000,\n",
    "    \"Construction\": 350000,\n",
    "    \"Manufacturing\": 530000,\n",
    "    \"Service\": 250000,\n",
    "    \"IT\": 215000,\n",
    "    \"Retail\": 580000,\n",
    "    \"Healthcare\": 220000,\n",
    "}\n",
    "total = 0\n",
    "for key, val in industry_dict.items():\n",
    "    total += val\n",
    "weights = []\n",
    "for key, val in industry_dict.items():\n",
    "    weights.append(val/total)\n",
    "\n",
    "industry = np.zeros((n_rows,)).astype(str)\n",
    "industries = [\"Agriculture\", \"Construction\", \"Manufacturing\", \"Service\", \"IT\", \"Retail\", \"Healthcare\"]\n",
    "for i in range(n_rows):\n",
    "    if employment[i] == \"Unemployed\":\n",
    "        industry[i] = \"N/A\"\n",
    "    else:\n",
    "        industry[i] = np.random.choice(industries,p=weights)"
   ]
  },
  {
   "cell_type": "code",
   "execution_count": 15,
   "id": "030549a9",
   "metadata": {},
   "outputs": [
    {
     "name": "stderr",
     "output_type": "stream",
     "text": [
      "/home/markussagen/.pyenv/versions/sidekick/lib/python3.8/site-packages/seaborn/_decorators.py:36: FutureWarning: Pass the following variable as a keyword arg: x. From version 0.12, the only valid positional argument will be `data`, and passing other arguments without an explicit keyword will result in an error or misinterpretation.\n",
      "  warnings.warn(\n"
     ]
    },
    {
     "data": {
      "text/plain": [
       "<AxesSubplot:ylabel='count'>"
      ]
     },
     "execution_count": 15,
     "metadata": {},
     "output_type": "execute_result"
    },
    {
     "data": {
      "image/png": "[encoded data removed]",
      "text/plain": [
       "<Figure size 432x288 with 1 Axes>"
      ]
     },
     "metadata": {
      "needs_background": "light"
     },
     "output_type": "display_data"
    }
   ],
   "source": [
    "sns.countplot(industry)"
   ]
  },
  {
   "cell_type": "code",
   "execution_count": 16,
   "id": "ba132c49",
   "metadata": {},
   "outputs": [],
   "source": [
    "income = np.zeros((n_rows,)).astype(int)\n",
    "income_dict = {\n",
    "    \"Agriculture\": 31100,\n",
    "    \"Construction\": 70420,\n",
    "    \"Manufacturing\": 76390,\n",
    "    \"Service\": 61000,\n",
    "    \"IT\": 147000,\n",
    "    \"Retail\": 42900,\n",
    "    \"Healthcare\": 61000,\n",
    "}\n",
    "for i in range(n_rows):\n",
    "    factor = 1\n",
    "    if sex[i] == \"Female\":\n",
    "        factor = 0.83\n",
    "    if employment[i] == \"Unemployed\":\n",
    "        income [i] = 0\n",
    "        continue\n",
    "    elif employment[i] == \"Part-time\":\n",
    "        factor *= 0.5\n",
    "    inc = factor * income_dict[industry[i]]  \n",
    "    \n",
    "    income[i] = int(inc + np.random.randn()*0.1*inc)\n"
   ]
  },
  {
   "cell_type": "code",
   "execution_count": 17,
   "id": "4e4f90fd",
   "metadata": {},
   "outputs": [
    {
     "data": {
      "text/plain": [
       "<AxesSubplot:ylabel='Count'>"
      ]
     },
     "execution_count": 17,
     "metadata": {},
     "output_type": "execute_result"
    },
    {
     "data": {
      "image/png": "[encoded data removed]",
      "text/plain": [
       "<Figure size 432x288 with 1 Axes>"
      ]
     },
     "metadata": {
      "needs_background": "light"
     },
     "output_type": "display_data"
    }
   ],
   "source": [
    "sns.histplot(income)"
   ]
  },
  {
   "cell_type": "code",
   "execution_count": 18,
   "id": "c37c4b97",
   "metadata": {},
   "outputs": [],
   "source": [
    "prev_insurance = np.zeros((n_rows,)).astype(int)\n",
    "for i in range(n_rows):\n",
    "    if age[i] < 25:\n",
    "        weights = [0.5,0.5]\n",
    "    elif age[i] < 60:\n",
    "        weights = [0.4,0.6]\n",
    "    else:\n",
    "        weights = [0.35, 0.65]\n",
    "    prev_insurance[i] = np.random.choice([0,1],p=weights)"
   ]
  },
  {
   "cell_type": "code",
   "execution_count": 19,
   "id": "93204063",
   "metadata": {},
   "outputs": [
    {
     "name": "stderr",
     "output_type": "stream",
     "text": [
      "/home/markussagen/.pyenv/versions/sidekick/lib/python3.8/site-packages/seaborn/_decorators.py:36: FutureWarning: Pass the following variable as a keyword arg: x. From version 0.12, the only valid positional argument will be `data`, and passing other arguments without an explicit keyword will result in an error or misinterpretation.\n",
      "  warnings.warn(\n"
     ]
    },
    {
     "data": {
      "text/plain": [
       "<AxesSubplot:ylabel='count'>"
      ]
     },
     "execution_count": 19,
     "metadata": {},
     "output_type": "execute_result"
    },
    {
     "data": {
      "image/png": "[encoded data removed]",
      "text/plain": [
       "<Figure size 432x288 with 1 Axes>"
      ]
     },
     "metadata": {
      "needs_background": "light"
     },
     "output_type": "display_data"
    }
   ],
   "source": [
    "sns.countplot(prev_insurance)"
   ]
  },
  {
   "cell_type": "code",
   "execution_count": 20,
   "id": "fb261224",
   "metadata": {},
   "outputs": [],
   "source": [
    "score = np.zeros((n_rows,))\n",
    "max_income = income.max()\n",
    "for i in range(n_rows):\n",
    "    s = age[i]\n",
    "    if sex[i] == \"Female\":\n",
    "        s -= 5 - 5 * np.random.random_sample()\n",
    "    s += dependents[i] * (5 + 10 *np.random.random_sample())\n",
    "    disease_score = 5 + np.random.sample() * 5\n",
    "    if has_disease[i]:\n",
    "        disease_score *= -1\n",
    "    s += disease_score\n",
    "    et = employment[i]\n",
    "    if et == \"Agriculture\" or et == \"Construction\" or et == \"Manufacturing\":\n",
    "        s += 3 + np.random.sample() * 2\n",
    "    elif et != \"N/A\":\n",
    "        s += 5 + np.random.sample() * 10\n",
    "    inc_score = income[i]/max_income * 20\n",
    "    inc_score = inc_score + 0.01 * np.random.randn() * inc_score\n",
    "    s += inc_score\n",
    "    if prev_insurance[i]:\n",
    "        s += 5 + np.random.sample() * 10\n",
    "    score[i] = s\n",
    "score = (score - score.min()) / (score.max() - score.min())\n",
    "score *= 100\n",
    "score = score.astype(int)\n",
    "    "
   ]
  },
  {
   "cell_type": "code",
   "execution_count": 21,
   "id": "aba80dba",
   "metadata": {},
   "outputs": [
    {
     "data": {
      "text/plain": [
       "<seaborn.axisgrid.FacetGrid at 0x7f40a941dbe0>"
      ]
     },
     "execution_count": 21,
     "metadata": {},
     "output_type": "execute_result"
    },
    {
     "data": {
      "image/png": "[encoded data removed]",
      "text/plain": [
       "<Figure size 360x360 with 1 Axes>"
      ]
     },
     "metadata": {
      "needs_background": "light"
     },
     "output_type": "display_data"
    }
   ],
   "source": [
    "sns.displot(score)"
   ]
  },
  {
   "cell_type": "code",
   "execution_count": 22,
   "id": "316930a6",
   "metadata": {},
   "outputs": [],
   "source": [
    "score_level = np.zeros((n_rows,)).astype(str)\n",
    "for i in range(n_rows):\n",
    "    if score[i] < 40:\n",
    "        score_level[i] = \"Bronze\"\n",
    "    elif score[i] < 60:\n",
    "        score_level[i] = \"Silver\"\n",
    "    else:\n",
    "        score_level[i] = \"Gold\""
   ]
  },
  {
   "cell_type": "code",
   "execution_count": 23,
   "id": "68dc0904",
   "metadata": {},
   "outputs": [
    {
     "name": "stderr",
     "output_type": "stream",
     "text": [
      "/home/markussagen/.pyenv/versions/sidekick/lib/python3.8/site-packages/seaborn/_decorators.py:36: FutureWarning: Pass the following variable as a keyword arg: x. From version 0.12, the only valid positional argument will be `data`, and passing other arguments without an explicit keyword will result in an error or misinterpretation.\n",
      "  warnings.warn(\n"
     ]
    },
    {
     "data": {
      "text/plain": [
       "<AxesSubplot:ylabel='count'>"
      ]
     },
     "execution_count": 23,
     "metadata": {},
     "output_type": "execute_result"
    },
    {
     "data": {
      "image/png": "[encoded data removed]",
      "text/plain": [
       "<Figure size 432x288 with 1 Axes>"
      ]
     },
     "metadata": {
      "needs_background": "light"
     },
     "output_type": "display_data"
    }
   ],
   "source": [
    "sns.countplot(score_level)"
   ]
  },
  {
   "cell_type": "code",
   "execution_count": 24,
   "id": "478c1414",
   "metadata": {},
   "outputs": [],
   "source": [
    "col_dict = {\n",
    "    \"Age\": age, \n",
    "    \"Sex\": sex, \n",
    "    \"Number of Dependents\": dependents,\n",
    "    \"Has Chronic Disease\": has_disease,\n",
    "    \"Employment type\": employment, \n",
    "    \"Industry\": industry, \n",
    "    \"Annual Income (USD)\": income, \n",
    "    \"Previously Bought insurance\": prev_insurance,\n",
    "    \"Insurance Score\": score,\n",
    "    \"Insurance Level\": score_level\n",
    "}"
   ]
  },
  {
   "cell_type": "code",
   "execution_count": 25,
   "id": "159ee2c9",
   "metadata": {},
   "outputs": [
    {
     "data": {
      "text/html": [
       "<div>\n",
       "<style scoped>\n",
       "    .dataframe tbody tr th:only-of-type {\n",
       "        vertical-align: middle;\n",
       "    }\n",
       "\n",
       "    .dataframe tbody tr th {\n",
       "        vertical-align: top;\n",
       "    }\n",
       "\n",
       "    .dataframe thead th {\n",
       "        text-align: right;\n",
       "    }\n",
       "</style>\n",
       "<table border=\"1\" class=\"dataframe\">\n",
       "  <thead>\n",
       "    <tr style=\"text-align: right;\">\n",
       "      <th></th>\n",
       "      <th>Age</th>\n",
       "      <th>Sex</th>\n",
       "      <th>Number of Dependents</th>\n",
       "      <th>Has Chronic Disease</th>\n",
       "      <th>Employment type</th>\n",
       "      <th>Industry</th>\n",
       "      <th>Annual Income (USD)</th>\n",
       "      <th>Previously Bought insurance</th>\n",
       "      <th>Insurance Score</th>\n",
       "      <th>Insurance Level</th>\n",
       "    </tr>\n",
       "  </thead>\n",
       "  <tbody>\n",
       "    <tr>\n",
       "      <th>0</th>\n",
       "      <td>62</td>\n",
       "      <td>Male</td>\n",
       "      <td>2</td>\n",
       "      <td>1</td>\n",
       "      <td>Full-time</td>\n",
       "      <td>Retail</td>\n",
       "      <td>39450</td>\n",
       "      <td>0</td>\n",
       "      <td>39</td>\n",
       "      <td>Bronze</td>\n",
       "    </tr>\n",
       "    <tr>\n",
       "      <th>1</th>\n",
       "      <td>72</td>\n",
       "      <td>Female</td>\n",
       "      <td>2</td>\n",
       "      <td>0</td>\n",
       "      <td>Unemployed</td>\n",
       "      <td>N/A</td>\n",
       "      <td>0</td>\n",
       "      <td>0</td>\n",
       "      <td>49</td>\n",
       "      <td>Silver</td>\n",
       "    </tr>\n",
       "    <tr>\n",
       "      <th>2</th>\n",
       "      <td>49</td>\n",
       "      <td>Male</td>\n",
       "      <td>3</td>\n",
       "      <td>0</td>\n",
       "      <td>Full-time</td>\n",
       "      <td>IT</td>\n",
       "      <td>138191</td>\n",
       "      <td>0</td>\n",
       "      <td>62</td>\n",
       "      <td>Gold</td>\n",
       "    </tr>\n",
       "    <tr>\n",
       "      <th>3</th>\n",
       "      <td>59</td>\n",
       "      <td>Male</td>\n",
       "      <td>2</td>\n",
       "      <td>1</td>\n",
       "      <td>Full-time</td>\n",
       "      <td>Manufacturing</td>\n",
       "      <td>71438</td>\n",
       "      <td>1</td>\n",
       "      <td>54</td>\n",
       "      <td>Silver</td>\n",
       "    </tr>\n",
       "    <tr>\n",
       "      <th>4</th>\n",
       "      <td>55</td>\n",
       "      <td>Female</td>\n",
       "      <td>2</td>\n",
       "      <td>0</td>\n",
       "      <td>Full-time</td>\n",
       "      <td>Retail</td>\n",
       "      <td>34174</td>\n",
       "      <td>0</td>\n",
       "      <td>44</td>\n",
       "      <td>Silver</td>\n",
       "    </tr>\n",
       "    <tr>\n",
       "      <th>...</th>\n",
       "      <td>...</td>\n",
       "      <td>...</td>\n",
       "      <td>...</td>\n",
       "      <td>...</td>\n",
       "      <td>...</td>\n",
       "      <td>...</td>\n",
       "      <td>...</td>\n",
       "      <td>...</td>\n",
       "      <td>...</td>\n",
       "      <td>...</td>\n",
       "    </tr>\n",
       "    <tr>\n",
       "      <th>49995</th>\n",
       "      <td>38</td>\n",
       "      <td>Female</td>\n",
       "      <td>1</td>\n",
       "      <td>1</td>\n",
       "      <td>Full-time</td>\n",
       "      <td>Healthcare</td>\n",
       "      <td>55294</td>\n",
       "      <td>0</td>\n",
       "      <td>22</td>\n",
       "      <td>Bronze</td>\n",
       "    </tr>\n",
       "    <tr>\n",
       "      <th>49996</th>\n",
       "      <td>33</td>\n",
       "      <td>Male</td>\n",
       "      <td>2</td>\n",
       "      <td>0</td>\n",
       "      <td>Full-time</td>\n",
       "      <td>IT</td>\n",
       "      <td>138666</td>\n",
       "      <td>0</td>\n",
       "      <td>42</td>\n",
       "      <td>Silver</td>\n",
       "    </tr>\n",
       "    <tr>\n",
       "      <th>49997</th>\n",
       "      <td>42</td>\n",
       "      <td>Female</td>\n",
       "      <td>1</td>\n",
       "      <td>1</td>\n",
       "      <td>Full-time</td>\n",
       "      <td>Healthcare</td>\n",
       "      <td>48203</td>\n",
       "      <td>0</td>\n",
       "      <td>25</td>\n",
       "      <td>Bronze</td>\n",
       "    </tr>\n",
       "    <tr>\n",
       "      <th>49998</th>\n",
       "      <td>59</td>\n",
       "      <td>Male</td>\n",
       "      <td>2</td>\n",
       "      <td>0</td>\n",
       "      <td>Unemployed</td>\n",
       "      <td>N/A</td>\n",
       "      <td>0</td>\n",
       "      <td>1</td>\n",
       "      <td>66</td>\n",
       "      <td>Gold</td>\n",
       "    </tr>\n",
       "    <tr>\n",
       "      <th>49999</th>\n",
       "      <td>35</td>\n",
       "      <td>Male</td>\n",
       "      <td>2</td>\n",
       "      <td>1</td>\n",
       "      <td>Full-time</td>\n",
       "      <td>Manufacturing</td>\n",
       "      <td>71665</td>\n",
       "      <td>0</td>\n",
       "      <td>29</td>\n",
       "      <td>Bronze</td>\n",
       "    </tr>\n",
       "  </tbody>\n",
       "</table>\n",
       "<p>50000 rows × 10 columns</p>\n",
       "</div>"
      ],
      "text/plain": [
       "       Age     Sex  Number of Dependents  Has Chronic Disease Employment type  \\\n",
       "0       62    Male                     2                    1       Full-time   \n",
       "1       72  Female                     2                    0      Unemployed   \n",
       "2       49    Male                     3                    0       Full-time   \n",
       "3       59    Male                     2                    1       Full-time   \n",
       "4       55  Female                     2                    0       Full-time   \n",
       "...    ...     ...                   ...                  ...             ...   \n",
       "49995   38  Female                     1                    1       Full-time   \n",
       "49996   33    Male                     2                    0       Full-time   \n",
       "49997   42  Female                     1                    1       Full-time   \n",
       "49998   59    Male                     2                    0      Unemployed   \n",
       "49999   35    Male                     2                    1       Full-time   \n",
       "\n",
       "            Industry  Annual Income (USD)  Previously Bought insurance  \\\n",
       "0             Retail                39450                            0   \n",
       "1                N/A                    0                            0   \n",
       "2                 IT               138191                            0   \n",
       "3      Manufacturing                71438                            1   \n",
       "4             Retail                34174                            0   \n",
       "...              ...                  ...                          ...   \n",
       "49995     Healthcare                55294                            0   \n",
       "49996             IT               138666                            0   \n",
       "49997     Healthcare                48203                            0   \n",
       "49998            N/A                    0                            1   \n",
       "49999  Manufacturing                71665                            0   \n",
       "\n",
       "       Insurance Score Insurance Level  \n",
       "0                   39          Bronze  \n",
       "1                   49          Silver  \n",
       "2                   62            Gold  \n",
       "3                   54          Silver  \n",
       "4                   44          Silver  \n",
       "...                ...             ...  \n",
       "49995               22          Bronze  \n",
       "49996               42          Silver  \n",
       "49997               25          Bronze  \n",
       "49998               66            Gold  \n",
       "49999               29          Bronze  \n",
       "\n",
       "[50000 rows x 10 columns]"
      ]
     },
     "execution_count": 25,
     "metadata": {},
     "output_type": "execute_result"
    }
   ],
   "source": [
    "df = pd.DataFrame.from_dict(col_dict)\n",
    "df"
   ]
  },
  {
   "cell_type": "code",
   "execution_count": 26,
   "id": "f0f0eefd",
   "metadata": {},
   "outputs": [],
   "source": [
    "df.to_csv(\"synthetic_insurance.csv\")"
   ]
  },
  {
   "cell_type": "markdown",
   "id": "56614081",
   "metadata": {},
   "source": [
    "## Fixed missing values"
   ]
  },
  {
   "cell_type": "code",
   "execution_count": 27,
   "id": "43209a5d",
   "metadata": {},
   "outputs": [],
   "source": [
    "df.loc[df[\"Employment type\"]==\"Unemployed\",\"Industry\"] = np.nan\n",
    "df.loc[df[\"Employment type\"]==\"Unemployed\",\"Annual Income (USD)\"] = np.nan"
   ]
  },
  {
   "cell_type": "markdown",
   "id": "02e3a5cb",
   "metadata": {},
   "source": [
    "## Random Noise and incorrect types"
   ]
  },
  {
   "cell_type": "code",
   "execution_count": 28,
   "id": "54252dfc",
   "metadata": {},
   "outputs": [],
   "source": [
    "def replace_str(num):\n",
    "    replace = np.random.choice([True,False],p=[0.1,0.9])\n",
    "    if replace:\n",
    "        num = \"\\\"\" + str(num) + \"\\\"\"\n",
    "    return num"
   ]
  },
  {
   "cell_type": "code",
   "execution_count": 29,
   "id": "a0f98bca",
   "metadata": {},
   "outputs": [],
   "source": [
    "def replace_nan(val, p):\n",
    "    replace = np.random.choice([True,False],p=[p,1-p])\n",
    "    if replace:\n",
    "        val = np.nan\n",
    "    return val"
   ]
  },
  {
   "cell_type": "code",
   "execution_count": 30,
   "id": "b7f0b7e6",
   "metadata": {},
   "outputs": [
    {
     "data": {
      "application/vnd.jupyter.widget-view+json": {
       "model_id": "93c071afc5944b84b292f7e5ff23cca0",
       "version_major": 2,
       "version_minor": 0
      },
      "text/plain": [
       "  0%|          | 0/50000 [00:00<?, ?it/s]"
      ]
     },
     "metadata": {},
     "output_type": "display_data"
    }
   ],
   "source": [
    "for i in tqdm(range(n_rows)):\n",
    "    df.loc[i,\"Number of Dependents\"] = replace_str(df.loc[i,\"Number of Dependents\"])\n",
    "    df.loc[i,\"Annual Income (USD)\"] = replace_nan(df.loc[i,\"Annual Income (USD)\"],0.05)\n",
    "    df.loc[i,\"Previously Bought insurance\"] = replace_nan(df.loc[i,\"Previously Bought insurance\"],0.1)\n",
    "    df.loc[i,\"Insurance Score\"] = replace_nan(df.loc[i,\"Insurance Score\"],0.01)\n",
    "    if df.loc[i,\"Insurance Score\"] == np.nan:\n",
    "        df.loc[i,\"Insurance Level\"] = np.nan\n",
    "    \n",
    "    "
   ]
  },
  {
   "cell_type": "markdown",
   "id": "1b4ed70e",
   "metadata": {},
   "source": [
    "## Duplicate Rows"
   ]
  },
  {
   "cell_type": "code",
   "execution_count": 31,
   "id": "3c52b7ee",
   "metadata": {},
   "outputs": [],
   "source": [
    "n_duplicates = n_rows//100\n",
    "dupl_idxs = np.array(range(n_rows))\n",
    "dupl_idxs = np.random.permutation(n_rows)\n",
    "dupl_idxs = dupl_idxs[:n_duplicates]\n",
    "\n",
    "df = pd.concat([df, df.iloc[dupl_idxs]])"
   ]
  },
  {
   "cell_type": "code",
   "execution_count": 32,
   "id": "f8187e57",
   "metadata": {
    "scrolled": false
   },
   "outputs": [],
   "source": [
    "df[\"Date\"] = \"2021-10-09\"\n",
    "df[\"Insured\"] = True"
   ]
  },
  {
   "cell_type": "code",
   "execution_count": 33,
   "id": "1d10b27d",
   "metadata": {},
   "outputs": [
    {
     "data": {
      "text/html": [
       "<div>\n",
       "<style scoped>\n",
       "    .dataframe tbody tr th:only-of-type {\n",
       "        vertical-align: middle;\n",
       "    }\n",
       "\n",
       "    .dataframe tbody tr th {\n",
       "        vertical-align: top;\n",
       "    }\n",
       "\n",
       "    .dataframe thead th {\n",
       "        text-align: right;\n",
       "    }\n",
       "</style>\n",
       "<table border=\"1\" class=\"dataframe\">\n",
       "  <thead>\n",
       "    <tr style=\"text-align: right;\">\n",
       "      <th></th>\n",
       "      <th>Age</th>\n",
       "      <th>Sex</th>\n",
       "      <th>Number of Dependents</th>\n",
       "      <th>Has Chronic Disease</th>\n",
       "      <th>Employment type</th>\n",
       "      <th>Industry</th>\n",
       "      <th>Annual Income (USD)</th>\n",
       "      <th>Previously Bought insurance</th>\n",
       "      <th>Insurance Score</th>\n",
       "      <th>Insurance Level</th>\n",
       "      <th>Date</th>\n",
       "      <th>Insured</th>\n",
       "    </tr>\n",
       "  </thead>\n",
       "  <tbody>\n",
       "    <tr>\n",
       "      <th>0</th>\n",
       "      <td>62</td>\n",
       "      <td>Male</td>\n",
       "      <td>2</td>\n",
       "      <td>1</td>\n",
       "      <td>Full-time</td>\n",
       "      <td>Retail</td>\n",
       "      <td>39450.0</td>\n",
       "      <td>0.0</td>\n",
       "      <td>39.0</td>\n",
       "      <td>Bronze</td>\n",
       "      <td>2021-10-09</td>\n",
       "      <td>True</td>\n",
       "    </tr>\n",
       "    <tr>\n",
       "      <th>1</th>\n",
       "      <td>72</td>\n",
       "      <td>Female</td>\n",
       "      <td>2</td>\n",
       "      <td>0</td>\n",
       "      <td>Unemployed</td>\n",
       "      <td>NaN</td>\n",
       "      <td>NaN</td>\n",
       "      <td>0.0</td>\n",
       "      <td>49.0</td>\n",
       "      <td>Silver</td>\n",
       "      <td>2021-10-09</td>\n",
       "      <td>True</td>\n",
       "    </tr>\n",
       "    <tr>\n",
       "      <th>2</th>\n",
       "      <td>49</td>\n",
       "      <td>Male</td>\n",
       "      <td>3</td>\n",
       "      <td>0</td>\n",
       "      <td>Full-time</td>\n",
       "      <td>IT</td>\n",
       "      <td>138191.0</td>\n",
       "      <td>0.0</td>\n",
       "      <td>62.0</td>\n",
       "      <td>Gold</td>\n",
       "      <td>2021-10-09</td>\n",
       "      <td>True</td>\n",
       "    </tr>\n",
       "    <tr>\n",
       "      <th>3</th>\n",
       "      <td>59</td>\n",
       "      <td>Male</td>\n",
       "      <td>2</td>\n",
       "      <td>1</td>\n",
       "      <td>Full-time</td>\n",
       "      <td>Manufacturing</td>\n",
       "      <td>71438.0</td>\n",
       "      <td>1.0</td>\n",
       "      <td>54.0</td>\n",
       "      <td>Silver</td>\n",
       "      <td>2021-10-09</td>\n",
       "      <td>True</td>\n",
       "    </tr>\n",
       "    <tr>\n",
       "      <th>4</th>\n",
       "      <td>55</td>\n",
       "      <td>Female</td>\n",
       "      <td>2</td>\n",
       "      <td>0</td>\n",
       "      <td>Full-time</td>\n",
       "      <td>Retail</td>\n",
       "      <td>34174.0</td>\n",
       "      <td>0.0</td>\n",
       "      <td>44.0</td>\n",
       "      <td>Silver</td>\n",
       "      <td>2021-10-09</td>\n",
       "      <td>True</td>\n",
       "    </tr>\n",
       "    <tr>\n",
       "      <th>...</th>\n",
       "      <td>...</td>\n",
       "      <td>...</td>\n",
       "      <td>...</td>\n",
       "      <td>...</td>\n",
       "      <td>...</td>\n",
       "      <td>...</td>\n",
       "      <td>...</td>\n",
       "      <td>...</td>\n",
       "      <td>...</td>\n",
       "      <td>...</td>\n",
       "      <td>...</td>\n",
       "      <td>...</td>\n",
       "    </tr>\n",
       "    <tr>\n",
       "      <th>13609</th>\n",
       "      <td>60</td>\n",
       "      <td>Male</td>\n",
       "      <td>1</td>\n",
       "      <td>1</td>\n",
       "      <td>Full-time</td>\n",
       "      <td>Service</td>\n",
       "      <td>55223.0</td>\n",
       "      <td>0.0</td>\n",
       "      <td>37.0</td>\n",
       "      <td>Bronze</td>\n",
       "      <td>2021-10-09</td>\n",
       "      <td>True</td>\n",
       "    </tr>\n",
       "    <tr>\n",
       "      <th>13274</th>\n",
       "      <td>59</td>\n",
       "      <td>Female</td>\n",
       "      <td>4</td>\n",
       "      <td>0</td>\n",
       "      <td>Full-time</td>\n",
       "      <td>Manufacturing</td>\n",
       "      <td>69919.0</td>\n",
       "      <td>0.0</td>\n",
       "      <td>69.0</td>\n",
       "      <td>Gold</td>\n",
       "      <td>2021-10-09</td>\n",
       "      <td>True</td>\n",
       "    </tr>\n",
       "    <tr>\n",
       "      <th>14455</th>\n",
       "      <td>53</td>\n",
       "      <td>Female</td>\n",
       "      <td>0</td>\n",
       "      <td>0</td>\n",
       "      <td>Full-time</td>\n",
       "      <td>Manufacturing</td>\n",
       "      <td>54434.0</td>\n",
       "      <td>NaN</td>\n",
       "      <td>44.0</td>\n",
       "      <td>Silver</td>\n",
       "      <td>2021-10-09</td>\n",
       "      <td>True</td>\n",
       "    </tr>\n",
       "    <tr>\n",
       "      <th>9570</th>\n",
       "      <td>45</td>\n",
       "      <td>Female</td>\n",
       "      <td>2</td>\n",
       "      <td>1</td>\n",
       "      <td>Part-time</td>\n",
       "      <td>Manufacturing</td>\n",
       "      <td>30590.0</td>\n",
       "      <td>0.0</td>\n",
       "      <td>34.0</td>\n",
       "      <td>Bronze</td>\n",
       "      <td>2021-10-09</td>\n",
       "      <td>True</td>\n",
       "    </tr>\n",
       "    <tr>\n",
       "      <th>16310</th>\n",
       "      <td>44</td>\n",
       "      <td>Male</td>\n",
       "      <td>3</td>\n",
       "      <td>1</td>\n",
       "      <td>Unemployed</td>\n",
       "      <td>NaN</td>\n",
       "      <td>NaN</td>\n",
       "      <td>1.0</td>\n",
       "      <td>49.0</td>\n",
       "      <td>Silver</td>\n",
       "      <td>2021-10-09</td>\n",
       "      <td>True</td>\n",
       "    </tr>\n",
       "  </tbody>\n",
       "</table>\n",
       "<p>50500 rows × 12 columns</p>\n",
       "</div>"
      ],
      "text/plain": [
       "       Age     Sex Number of Dependents  Has Chronic Disease Employment type  \\\n",
       "0       62    Male                    2                    1       Full-time   \n",
       "1       72  Female                    2                    0      Unemployed   \n",
       "2       49    Male                    3                    0       Full-time   \n",
       "3       59    Male                    2                    1       Full-time   \n",
       "4       55  Female                    2                    0       Full-time   \n",
       "...    ...     ...                  ...                  ...             ...   \n",
       "13609   60    Male                    1                    1       Full-time   \n",
       "13274   59  Female                    4                    0       Full-time   \n",
       "14455   53  Female                    0                    0       Full-time   \n",
       "9570    45  Female                    2                    1       Part-time   \n",
       "16310   44    Male                    3                    1      Unemployed   \n",
       "\n",
       "            Industry  Annual Income (USD)  Previously Bought insurance  \\\n",
       "0             Retail              39450.0                          0.0   \n",
       "1                NaN                  NaN                          0.0   \n",
       "2                 IT             138191.0                          0.0   \n",
       "3      Manufacturing              71438.0                          1.0   \n",
       "4             Retail              34174.0                          0.0   \n",
       "...              ...                  ...                          ...   \n",
       "13609        Service              55223.0                          0.0   \n",
       "13274  Manufacturing              69919.0                          0.0   \n",
       "14455  Manufacturing              54434.0                          NaN   \n",
       "9570   Manufacturing              30590.0                          0.0   \n",
       "16310            NaN                  NaN                          1.0   \n",
       "\n",
       "       Insurance Score Insurance Level        Date  Insured  \n",
       "0                 39.0          Bronze  2021-10-09     True  \n",
       "1                 49.0          Silver  2021-10-09     True  \n",
       "2                 62.0            Gold  2021-10-09     True  \n",
       "3                 54.0          Silver  2021-10-09     True  \n",
       "4                 44.0          Silver  2021-10-09     True  \n",
       "...                ...             ...         ...      ...  \n",
       "13609             37.0          Bronze  2021-10-09     True  \n",
       "13274             69.0            Gold  2021-10-09     True  \n",
       "14455             44.0          Silver  2021-10-09     True  \n",
       "9570              34.0          Bronze  2021-10-09     True  \n",
       "16310             49.0          Silver  2021-10-09     True  \n",
       "\n",
       "[50500 rows x 12 columns]"
      ]
     },
     "execution_count": 33,
     "metadata": {},
     "output_type": "execute_result"
    }
   ],
   "source": [
    "df"
   ]
  },
  {
   "cell_type": "code",
   "execution_count": 34,
   "id": "60ea9ee1",
   "metadata": {},
   "outputs": [],
   "source": [
    "df.to_csv(\"synthetic_insurance_ruined.csv\")"
   ]
  },
  {
   "cell_type": "code",
   "execution_count": null,
   "id": "cf92b17c",
   "metadata": {},
   "outputs": [],
   "source": []
  },
  {
   "cell_type": "code",
   "execution_count": null,
   "id": "4b5623e6",
   "metadata": {},
   "outputs": [],
   "source": []
  }
 ],
 "metadata": {
  "kernelspec": {
   "display_name": "sidekick",
   "language": "python",
   "name": "sidekick"
  },
  "language_info": {
   "codemirror_mode": {
    "name": "ipython",
    "version": 3
   },
   "file_extension": ".py",
   "mimetype": "text/x-python",
   "name": "python",
   "nbconvert_exporter": "python",
   "pygments_lexer": "ipython3",
   "version": "3.8.5"
  }
 },
 "nbformat": 4,
 "nbformat_minor": 5
}
