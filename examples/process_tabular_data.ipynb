{
 "cells": [
  {
   "cell_type": "code",
   "execution_count": 1,
   "id": "9e48edf4",
   "metadata": {},
   "outputs": [],
   "source": [
    "import pathlib\n",
    "\n",
    "import numpy as np\n",
    "import pandas as pd\n",
    "from IPython.display import display\n",
    "import seaborn as sns\n",
    "\n",
    "import sidekick"
   ]
  },
  {
   "cell_type": "markdown",
   "id": "dd3f023e",
   "metadata": {},
   "source": [
    "##  Load the data\n",
    "Provided is a synthetic dataset to show the steps often required to prepare a tabular dataset, note that not all steps will be necessary for your dataset."
   ]
  },
  {
   "cell_type": "code",
   "execution_count": 2,
   "id": "5d5e0c91",
   "metadata": {},
   "outputs": [
    {
     "data": {
      "text/html": [
       "<div>\n",
       "<style scoped>\n",
       "    .dataframe tbody tr th:only-of-type {\n",
       "        vertical-align: middle;\n",
       "    }\n",
       "\n",
       "    .dataframe tbody tr th {\n",
       "        vertical-align: top;\n",
       "    }\n",
       "\n",
       "    .dataframe thead th {\n",
       "        text-align: right;\n",
       "    }\n",
       "</style>\n",
       "<table border=\"1\" class=\"dataframe\">\n",
       "  <thead>\n",
       "    <tr style=\"text-align: right;\">\n",
       "      <th></th>\n",
       "      <th>Age</th>\n",
       "      <th>Sex</th>\n",
       "      <th>Number of Dependents</th>\n",
       "      <th>Has Chronic Disease</th>\n",
       "      <th>Employment type</th>\n",
       "      <th>Industry</th>\n",
       "      <th>Annual Income (USD)</th>\n",
       "      <th>Previously Bought insurance</th>\n",
       "      <th>Insurance Score</th>\n",
       "      <th>Insurance Level</th>\n",
       "      <th>Date</th>\n",
       "      <th>Insured</th>\n",
       "    </tr>\n",
       "  </thead>\n",
       "  <tbody>\n",
       "    <tr>\n",
       "      <th>0</th>\n",
       "      <td>62</td>\n",
       "      <td>Male</td>\n",
       "      <td>2</td>\n",
       "      <td>1</td>\n",
       "      <td>Full-time</td>\n",
       "      <td>Retail</td>\n",
       "      <td>39450.0</td>\n",
       "      <td>0.0</td>\n",
       "      <td>39.0</td>\n",
       "      <td>Bronze</td>\n",
       "      <td>2021-10-09</td>\n",
       "      <td>True</td>\n",
       "    </tr>\n",
       "    <tr>\n",
       "      <th>1</th>\n",
       "      <td>72</td>\n",
       "      <td>Female</td>\n",
       "      <td>2</td>\n",
       "      <td>0</td>\n",
       "      <td>Unemployed</td>\n",
       "      <td>NaN</td>\n",
       "      <td>NaN</td>\n",
       "      <td>0.0</td>\n",
       "      <td>49.0</td>\n",
       "      <td>Silver</td>\n",
       "      <td>2021-10-09</td>\n",
       "      <td>True</td>\n",
       "    </tr>\n",
       "    <tr>\n",
       "      <th>2</th>\n",
       "      <td>49</td>\n",
       "      <td>Male</td>\n",
       "      <td>3</td>\n",
       "      <td>0</td>\n",
       "      <td>Full-time</td>\n",
       "      <td>IT</td>\n",
       "      <td>138191.0</td>\n",
       "      <td>0.0</td>\n",
       "      <td>62.0</td>\n",
       "      <td>Gold</td>\n",
       "      <td>2021-10-09</td>\n",
       "      <td>True</td>\n",
       "    </tr>\n",
       "    <tr>\n",
       "      <th>3</th>\n",
       "      <td>59</td>\n",
       "      <td>Male</td>\n",
       "      <td>2</td>\n",
       "      <td>1</td>\n",
       "      <td>Full-time</td>\n",
       "      <td>Manufacturing</td>\n",
       "      <td>71438.0</td>\n",
       "      <td>1.0</td>\n",
       "      <td>54.0</td>\n",
       "      <td>Silver</td>\n",
       "      <td>2021-10-09</td>\n",
       "      <td>True</td>\n",
       "    </tr>\n",
       "    <tr>\n",
       "      <th>4</th>\n",
       "      <td>55</td>\n",
       "      <td>Female</td>\n",
       "      <td>2</td>\n",
       "      <td>0</td>\n",
       "      <td>Full-time</td>\n",
       "      <td>Retail</td>\n",
       "      <td>34174.0</td>\n",
       "      <td>0.0</td>\n",
       "      <td>44.0</td>\n",
       "      <td>Silver</td>\n",
       "      <td>2021-10-09</td>\n",
       "      <td>True</td>\n",
       "    </tr>\n",
       "  </tbody>\n",
       "</table>\n",
       "</div>"
      ],
      "text/plain": [
       "   Age     Sex Number of Dependents  Has Chronic Disease Employment type  \\\n",
       "0   62    Male                    2                    1       Full-time   \n",
       "1   72  Female                    2                    0      Unemployed   \n",
       "2   49    Male                    3                    0       Full-time   \n",
       "3   59    Male                    2                    1       Full-time   \n",
       "4   55  Female                    2                    0       Full-time   \n",
       "\n",
       "        Industry  Annual Income (USD)  Previously Bought insurance  \\\n",
       "0         Retail              39450.0                          0.0   \n",
       "1            NaN                  NaN                          0.0   \n",
       "2             IT             138191.0                          0.0   \n",
       "3  Manufacturing              71438.0                          1.0   \n",
       "4         Retail              34174.0                          0.0   \n",
       "\n",
       "   Insurance Score Insurance Level        Date  Insured  \n",
       "0             39.0          Bronze  2021-10-09     True  \n",
       "1             49.0          Silver  2021-10-09     True  \n",
       "2             62.0            Gold  2021-10-09     True  \n",
       "3             54.0          Silver  2021-10-09     True  \n",
       "4             44.0          Silver  2021-10-09     True  "
      ]
     },
     "metadata": {},
     "output_type": "display_data"
    }
   ],
   "source": [
    "dataset_path = pathlib.Path(\"./synthetic_insurance_ruined.csv\")\n",
    "df = pd.read_csv(dataset_path, index_col=0)\n",
    "display(df.head())"
   ]
  },
  {
   "cell_type": "markdown",
   "id": "e01de0a4",
   "metadata": {},
   "source": [
    "Let's start off by getting some information about what our dataset looks like:"
   ]
  },
  {
   "cell_type": "code",
   "execution_count": 3,
   "id": "d4169e4a",
   "metadata": {},
   "outputs": [
    {
     "name": "stdout",
     "output_type": "stream",
     "text": [
      "<class 'pandas.core.frame.DataFrame'>\n",
      "Int64Index: 50500 entries, 0 to 16310\n",
      "Data columns (total 12 columns):\n",
      " #   Column                       Non-Null Count  Dtype  \n",
      "---  ------                       --------------  -----  \n",
      " 0   Age                          50500 non-null  int64  \n",
      " 1   Sex                          50500 non-null  object \n",
      " 2   Number of Dependents         50500 non-null  object \n",
      " 3   Has Chronic Disease          50500 non-null  int64  \n",
      " 4   Employment type              50500 non-null  object \n",
      " 5   Industry                     46444 non-null  object \n",
      " 6   Annual Income (USD)          44114 non-null  float64\n",
      " 7   Previously Bought insurance  45444 non-null  float64\n",
      " 8   Insurance Score              50005 non-null  float64\n",
      " 9   Insurance Level              50500 non-null  object \n",
      " 10  Date                         50500 non-null  object \n",
      " 11  Insured                      50500 non-null  bool   \n",
      "dtypes: bool(1), float64(3), int64(2), object(6)\n",
      "memory usage: 4.7+ MB\n"
     ]
    },
    {
     "data": {
      "text/plain": [
       "None"
      ]
     },
     "metadata": {},
     "output_type": "display_data"
    },
    {
     "data": {
      "text/html": [
       "<div>\n",
       "<style scoped>\n",
       "    .dataframe tbody tr th:only-of-type {\n",
       "        vertical-align: middle;\n",
       "    }\n",
       "\n",
       "    .dataframe tbody tr th {\n",
       "        vertical-align: top;\n",
       "    }\n",
       "\n",
       "    .dataframe thead th {\n",
       "        text-align: right;\n",
       "    }\n",
       "</style>\n",
       "<table border=\"1\" class=\"dataframe\">\n",
       "  <thead>\n",
       "    <tr style=\"text-align: right;\">\n",
       "      <th></th>\n",
       "      <th>Age</th>\n",
       "      <th>Has Chronic Disease</th>\n",
       "      <th>Annual Income (USD)</th>\n",
       "      <th>Previously Bought insurance</th>\n",
       "      <th>Insurance Score</th>\n",
       "    </tr>\n",
       "  </thead>\n",
       "  <tbody>\n",
       "    <tr>\n",
       "      <th>count</th>\n",
       "      <td>50500.000000</td>\n",
       "      <td>50500.000000</td>\n",
       "      <td>44114.000000</td>\n",
       "      <td>45444.000000</td>\n",
       "      <td>50005.000000</td>\n",
       "    </tr>\n",
       "    <tr>\n",
       "      <th>mean</th>\n",
       "      <td>53.353901</td>\n",
       "      <td>0.495703</td>\n",
       "      <td>55249.650882</td>\n",
       "      <td>0.617265</td>\n",
       "      <td>49.124008</td>\n",
       "    </tr>\n",
       "    <tr>\n",
       "      <th>std</th>\n",
       "      <td>11.966905</td>\n",
       "      <td>0.499986</td>\n",
       "      <td>28618.534219</td>\n",
       "      <td>0.486060</td>\n",
       "      <td>13.487463</td>\n",
       "    </tr>\n",
       "    <tr>\n",
       "      <th>min</th>\n",
       "      <td>18.000000</td>\n",
       "      <td>0.000000</td>\n",
       "      <td>10249.000000</td>\n",
       "      <td>0.000000</td>\n",
       "      <td>0.000000</td>\n",
       "    </tr>\n",
       "    <tr>\n",
       "      <th>25%</th>\n",
       "      <td>45.000000</td>\n",
       "      <td>0.000000</td>\n",
       "      <td>35052.250000</td>\n",
       "      <td>0.000000</td>\n",
       "      <td>40.000000</td>\n",
       "    </tr>\n",
       "    <tr>\n",
       "      <th>50%</th>\n",
       "      <td>54.000000</td>\n",
       "      <td>0.000000</td>\n",
       "      <td>51646.500000</td>\n",
       "      <td>1.000000</td>\n",
       "      <td>49.000000</td>\n",
       "    </tr>\n",
       "    <tr>\n",
       "      <th>75%</th>\n",
       "      <td>63.000000</td>\n",
       "      <td>1.000000</td>\n",
       "      <td>66739.000000</td>\n",
       "      <td>1.000000</td>\n",
       "      <td>58.000000</td>\n",
       "    </tr>\n",
       "    <tr>\n",
       "      <th>max</th>\n",
       "      <td>77.000000</td>\n",
       "      <td>1.000000</td>\n",
       "      <td>198930.000000</td>\n",
       "      <td>1.000000</td>\n",
       "      <td>100.000000</td>\n",
       "    </tr>\n",
       "  </tbody>\n",
       "</table>\n",
       "</div>"
      ],
      "text/plain": [
       "                Age  Has Chronic Disease  Annual Income (USD)  \\\n",
       "count  50500.000000         50500.000000         44114.000000   \n",
       "mean      53.353901             0.495703         55249.650882   \n",
       "std       11.966905             0.499986         28618.534219   \n",
       "min       18.000000             0.000000         10249.000000   \n",
       "25%       45.000000             0.000000         35052.250000   \n",
       "50%       54.000000             0.000000         51646.500000   \n",
       "75%       63.000000             1.000000         66739.000000   \n",
       "max       77.000000             1.000000        198930.000000   \n",
       "\n",
       "       Previously Bought insurance  Insurance Score  \n",
       "count                 45444.000000     50005.000000  \n",
       "mean                      0.617265        49.124008  \n",
       "std                       0.486060        13.487463  \n",
       "min                       0.000000         0.000000  \n",
       "25%                       0.000000        40.000000  \n",
       "50%                       1.000000        49.000000  \n",
       "75%                       1.000000        58.000000  \n",
       "max                       1.000000       100.000000  "
      ]
     },
     "metadata": {},
     "output_type": "display_data"
    }
   ],
   "source": [
    "display(df.info())\n",
    "display(df.describe())"
   ]
  },
  {
   "cell_type": "markdown",
   "id": "270cf8a2",
   "metadata": {},
   "source": [
    "# TODO some observations about dataset and introduction"
   ]
  },
  {
   "cell_type": "markdown",
   "id": "a9b10696",
   "metadata": {},
   "source": [
    "# Data Leakage (row level)\n",
    "## What is the problem?\n",
    "A model has been trained on leaky data is likely to perform poorly while the model will likely appeaer to perform deceptively well on the validation/test set.\n",
    "\n",
    "## How to deal with it\n",
    "Simply applying the drop_duplicates method as below will remove any duplicate rows."
   ]
  },
  {
   "cell_type": "code",
   "execution_count": 4,
   "id": "a2e5bc1c",
   "metadata": {},
   "outputs": [],
   "source": [
    "table = sidekick.drop_duplicates(df)"
   ]
  },
  {
   "cell_type": "markdown",
   "id": "97439742",
   "metadata": {},
   "source": [
    "# Dataset  Split\n",
    "Before proceeding with the following steps it is a good idea to define your datasets.\n",
    "The reason for doing it at this point is that you would not want any imputed data in the validation/test sets.\n",
    "Note: This is not an issue if you simply drop rows with missing values.\n",
    "## How to split your data?\n",
    "Applying the create_subsets function will creaete a new column: \"Set\", indicating which set the row belongs to. \n",
    "It will ensure that there is no missing data in the validation/test sets, note that this affeects the sizes of the sets."
   ]
  },
  {
   "cell_type": "code",
   "execution_count": 5,
   "id": "bd4a1d0b",
   "metadata": {},
   "outputs": [],
   "source": [
    "table = sidekick.create_subsets(table, test_size = 0.2, valid_size = 0.25)"
   ]
  },
  {
   "cell_type": "markdown",
   "id": "5f69049e",
   "metadata": {},
   "source": [
    "# TODO mention othere available splitting methods"
   ]
  },
  {
   "cell_type": "markdown",
   "id": "dc01168d",
   "metadata": {},
   "source": [
    "Aside from ensuring that there is no imputed data in your test/validation set, it is good to be aware of the data distributions for the different sets.\n",
    "To start off, we can check out the size of the sets."
   ]
  },
  {
   "cell_type": "code",
   "execution_count": 6,
   "id": "9010081f",
   "metadata": {},
   "outputs": [
    {
     "data": {
      "text/plain": [
       "<AxesSubplot:xlabel='Set', ylabel='count'>"
      ]
     },
     "metadata": {},
     "output_type": "display_data"
    },
    {
     "data": {
      "image/png": "[encoded data removed]",
      "text/plain": [
       "<Figure size 432x288 with 1 Axes>"
      ]
     },
     "metadata": {
      "needs_background": "light"
     },
     "output_type": "display_data"
    }
   ],
   "source": [
    "display(sns.countplot(x=table[\"Set\"]))"
   ]
  },
  {
   "cell_type": "markdown",
   "id": "c0eff874",
   "metadata": {},
   "source": [
    "We can also compare the distribution of the data for the different sets as such"
   ]
  },
  {
   "cell_type": "code",
   "execution_count": 7,
   "id": "b2667507",
   "metadata": {},
   "outputs": [],
   "source": [
    "labels = [\"Bronze\", \"Silver\", \"Gold\"]"
   ]
  },
  {
   "cell_type": "markdown",
   "id": "6f3bb308",
   "metadata": {},
   "source": [
    "Full data:"
   ]
  },
  {
   "cell_type": "code",
   "execution_count": 8,
   "id": "fae8d22e",
   "metadata": {},
   "outputs": [
    {
     "data": {
      "text/plain": [
       "<AxesSubplot:xlabel='Insurance Level', ylabel='count'>"
      ]
     },
     "metadata": {},
     "output_type": "display_data"
    },
    {
     "data": {
      "image/png": "[encoded data removed]",
      "text/plain": [
       "<Figure size 432x288 with 1 Axes>"
      ]
     },
     "metadata": {
      "needs_background": "light"
     },
     "output_type": "display_data"
    }
   ],
   "source": [
    "display(sns.countplot(x=table[\"Insurance Level\"], order=labels))"
   ]
  },
  {
   "cell_type": "markdown",
   "id": "e1e1cab3",
   "metadata": {},
   "source": [
    "Training set:"
   ]
  },
  {
   "cell_type": "code",
   "execution_count": 9,
   "id": "c6f58e1f",
   "metadata": {},
   "outputs": [
    {
     "data": {
      "text/plain": [
       "<AxesSubplot:xlabel='Insurance Level', ylabel='count'>"
      ]
     },
     "metadata": {},
     "output_type": "display_data"
    },
    {
     "data": {
      "image/png": "[encoded data removed]",
      "text/plain": [
       "<Figure size 432x288 with 1 Axes>"
      ]
     },
     "metadata": {
      "needs_background": "light"
     },
     "output_type": "display_data"
    }
   ],
   "source": [
    "display(sns.countplot(x=table.loc[table[\"Set\"]==\"Train\",\"Insurance Level\"], order=labels))"
   ]
  },
  {
   "cell_type": "markdown",
   "id": "681f4f39",
   "metadata": {},
   "source": [
    "Validation Set:"
   ]
  },
  {
   "cell_type": "code",
   "execution_count": 10,
   "id": "805b139c",
   "metadata": {},
   "outputs": [
    {
     "data": {
      "text/plain": [
       "<AxesSubplot:xlabel='Insurance Level', ylabel='count'>"
      ]
     },
     "metadata": {},
     "output_type": "display_data"
    },
    {
     "data": {
      "image/png": "[encoded data removed]",
      "text/plain": [
       "<Figure size 432x288 with 1 Axes>"
      ]
     },
     "metadata": {
      "needs_background": "light"
     },
     "output_type": "display_data"
    }
   ],
   "source": [
    "display(sns.countplot(x=table.loc[table[\"Set\"]==\"Valid\",\"Insurance Level\"], order=labels))"
   ]
  },
  {
   "cell_type": "markdown",
   "id": "10c91b86",
   "metadata": {},
   "source": [
    "Test Set:"
   ]
  },
  {
   "cell_type": "code",
   "execution_count": 11,
   "id": "49b9cbfd",
   "metadata": {},
   "outputs": [
    {
     "data": {
      "text/plain": [
       "<AxesSubplot:xlabel='Insurance Level', ylabel='count'>"
      ]
     },
     "metadata": {},
     "output_type": "display_data"
    },
    {
     "data": {
      "image/png": "[encoded data removed]",
      "text/plain": [
       "<Figure size 432x288 with 1 Axes>"
      ]
     },
     "metadata": {
      "needs_background": "light"
     },
     "output_type": "display_data"
    }
   ],
   "source": [
    "display(sns.countplot(x=table.loc[table[\"Set\"]==\"Test\",\"Insurance Level\"], order=labels))"
   ]
  },
  {
   "cell_type": "markdown",
   "id": "c939e7cf",
   "metadata": {},
   "source": [
    "If there is a major difference between the distribution of the data in the different sets particularily for your target column\n",
    "It is worth it to considering using stratified sampling when creating the subsets, this is done using \n",
    "sidekick.create_subsets(table, stratify=table[\"col\"]) where col is the name of the column to sample for."
   ]
  },
  {
   "cell_type": "markdown",
   "id": "f93963f1",
   "metadata": {},
   "source": [
    "For categorical columns countplot is useful but for numerical columns, histplot or distplot are preferable.\n",
    "All columns can be visualized in this manner, you would simply change the \"Insurance Level\" to the column you wish to inspect."
   ]
  },
  {
   "cell_type": "code",
   "execution_count": 12,
   "id": "1fc7c461",
   "metadata": {},
   "outputs": [
    {
     "data": {
      "text/plain": [
       "<AxesSubplot:xlabel='Annual Income (USD)', ylabel='Count'>"
      ]
     },
     "metadata": {},
     "output_type": "display_data"
    },
    {
     "data": {
      "image/png": "[encoded data removed]",
      "text/plain": [
       "<Figure size 432x288 with 1 Axes>"
      ]
     },
     "metadata": {
      "needs_background": "light"
     },
     "output_type": "display_data"
    }
   ],
   "source": [
    "display(sns.histplot(x=table[\"Annual Income (USD)\"]))"
   ]
  },
  {
   "cell_type": "markdown",
   "id": "76446b4c",
   "metadata": {},
   "source": [
    "Note: If the columns contain missing values the visualization methods might not work, how to deal with this is covered below."
   ]
  },
  {
   "cell_type": "markdown",
   "id": "5ef031e2",
   "metadata": {},
   "source": [
    "# Missing Values\n",
    "## What is the problem?\n",
    "It is impossible to train a model on data containing missing values.\n",
    "## How to detect the problem?\n",
    "Using the show_summary function, we can highligt if there are missing values and in which columns."
   ]
  },
  {
   "cell_type": "code",
   "execution_count": 13,
   "id": "2412fcef",
   "metadata": {},
   "outputs": [
    {
     "data": {
      "text/html": [
       "<div>\n",
       "<style scoped>\n",
       "    .dataframe tbody tr th:only-of-type {\n",
       "        vertical-align: middle;\n",
       "    }\n",
       "\n",
       "    .dataframe tbody tr th {\n",
       "        vertical-align: top;\n",
       "    }\n",
       "\n",
       "    .dataframe thead th {\n",
       "        text-align: right;\n",
       "    }\n",
       "</style>\n",
       "<table border=\"1\" class=\"dataframe\">\n",
       "  <thead>\n",
       "    <tr style=\"text-align: right;\">\n",
       "      <th></th>\n",
       "      <th>Not Missing</th>\n",
       "      <th>Total Missing</th>\n",
       "      <th>% Missing</th>\n",
       "      <th>Column Types</th>\n",
       "    </tr>\n",
       "  </thead>\n",
       "  <tbody>\n",
       "    <tr>\n",
       "      <th>Annual Income (USD)</th>\n",
       "      <td>37612</td>\n",
       "      <td>6073</td>\n",
       "      <td>13.901797</td>\n",
       "      <td>float64</td>\n",
       "    </tr>\n",
       "    <tr>\n",
       "      <th>Previously Bought insurance</th>\n",
       "      <td>39750</td>\n",
       "      <td>5004</td>\n",
       "      <td>11.181123</td>\n",
       "      <td>float64</td>\n",
       "    </tr>\n",
       "    <tr>\n",
       "      <th>Industry</th>\n",
       "      <td>42218</td>\n",
       "      <td>3770</td>\n",
       "      <td>8.197791</td>\n",
       "      <td>object</td>\n",
       "    </tr>\n",
       "    <tr>\n",
       "      <th>Insurance Score</th>\n",
       "      <td>48782</td>\n",
       "      <td>488</td>\n",
       "      <td>0.990461</td>\n",
       "      <td>float64</td>\n",
       "    </tr>\n",
       "    <tr>\n",
       "      <th>index</th>\n",
       "      <td>49758</td>\n",
       "      <td>0</td>\n",
       "      <td>0.000000</td>\n",
       "      <td>int64</td>\n",
       "    </tr>\n",
       "    <tr>\n",
       "      <th>Age</th>\n",
       "      <td>49758</td>\n",
       "      <td>0</td>\n",
       "      <td>0.000000</td>\n",
       "      <td>int64</td>\n",
       "    </tr>\n",
       "    <tr>\n",
       "      <th>Sex</th>\n",
       "      <td>49758</td>\n",
       "      <td>0</td>\n",
       "      <td>0.000000</td>\n",
       "      <td>object</td>\n",
       "    </tr>\n",
       "    <tr>\n",
       "      <th>Number of Dependents</th>\n",
       "      <td>49758</td>\n",
       "      <td>0</td>\n",
       "      <td>0.000000</td>\n",
       "      <td>object</td>\n",
       "    </tr>\n",
       "    <tr>\n",
       "      <th>Has Chronic Disease</th>\n",
       "      <td>49758</td>\n",
       "      <td>0</td>\n",
       "      <td>0.000000</td>\n",
       "      <td>int64</td>\n",
       "    </tr>\n",
       "    <tr>\n",
       "      <th>Employment type</th>\n",
       "      <td>49758</td>\n",
       "      <td>0</td>\n",
       "      <td>0.000000</td>\n",
       "      <td>object</td>\n",
       "    </tr>\n",
       "    <tr>\n",
       "      <th>Insurance Level</th>\n",
       "      <td>49758</td>\n",
       "      <td>0</td>\n",
       "      <td>0.000000</td>\n",
       "      <td>object</td>\n",
       "    </tr>\n",
       "    <tr>\n",
       "      <th>Date</th>\n",
       "      <td>49758</td>\n",
       "      <td>0</td>\n",
       "      <td>0.000000</td>\n",
       "      <td>object</td>\n",
       "    </tr>\n",
       "    <tr>\n",
       "      <th>Insured</th>\n",
       "      <td>49758</td>\n",
       "      <td>0</td>\n",
       "      <td>0.000000</td>\n",
       "      <td>bool</td>\n",
       "    </tr>\n",
       "    <tr>\n",
       "      <th>Set</th>\n",
       "      <td>49758</td>\n",
       "      <td>0</td>\n",
       "      <td>0.000000</td>\n",
       "      <td>object</td>\n",
       "    </tr>\n",
       "  </tbody>\n",
       "</table>\n",
       "</div>"
      ],
      "text/plain": [
       "                             Not Missing  Total Missing  % Missing  \\\n",
       "Annual Income (USD)                37612           6073  13.901797   \n",
       "Previously Bought insurance        39750           5004  11.181123   \n",
       "Industry                           42218           3770   8.197791   \n",
       "Insurance Score                    48782            488   0.990461   \n",
       "index                              49758              0   0.000000   \n",
       "Age                                49758              0   0.000000   \n",
       "Sex                                49758              0   0.000000   \n",
       "Number of Dependents               49758              0   0.000000   \n",
       "Has Chronic Disease                49758              0   0.000000   \n",
       "Employment type                    49758              0   0.000000   \n",
       "Insurance Level                    49758              0   0.000000   \n",
       "Date                               49758              0   0.000000   \n",
       "Insured                            49758              0   0.000000   \n",
       "Set                                49758              0   0.000000   \n",
       "\n",
       "                            Column Types  \n",
       "Annual Income (USD)              float64  \n",
       "Previously Bought insurance      float64  \n",
       "Industry                          object  \n",
       "Insurance Score                  float64  \n",
       "index                              int64  \n",
       "Age                                int64  \n",
       "Sex                               object  \n",
       "Number of Dependents              object  \n",
       "Has Chronic Disease                int64  \n",
       "Employment type                   object  \n",
       "Insurance Level                   object  \n",
       "Date                              object  \n",
       "Insured                             bool  \n",
       "Set                               object  "
      ]
     },
     "metadata": {},
     "output_type": "display_data"
    }
   ],
   "source": [
    "display(sidekick.show_summary(table))"
   ]
  },
  {
   "cell_type": "markdown",
   "id": "8752c60f",
   "metadata": {},
   "source": [
    "## How to deal with it?\n",
    "\n",
    "- The easiest and likely safest way to do it is to drop all rows with missing values. The con with this approach is that your dataset becomes vastly smaller, and as much data as possible for training is always a good thing!\n",
    "- For continuos values (measurements, prices, age). A good praxis is to replace it with the \"mean\" of all values\n",
    "- For categorical values (colors, dog breed, a persons sex, Insurance rating). Those values have predefined categories, and there, using the \"mode\" (most common category) is the most common\n",
    "- When you want to set an explicit value, you can also provide that using \"replace\" with a specific \"value\"\n",
    "- For a simple solution\n",
    "\n",
    "- We also provide an \"auto\" imputation, which will try to guess the type of data you have and choose and apply an imputation method for you.\n",
    "The columns to impute can be on multiple columns at once. You can also do it on all of the columns, but we then need to define which column should be your target. The reason is the target (what you want to learn a model to predict)\n",
    "\n",
    "If you are unsure what type data your columns contain, you can find by inspecting the column `Column Type` by calling:\n",
    "```python\n",
    "sidekick.show_summary(table)\n",
    "```\n",
    "\n",
    "- For categories of type float64 and sometimes int64, the \"mean\" or \"replace\" imputation is the most likely.\n",
    "- For string, object and sometimes int64 typed columns, the \"mode\" inputation is the most likely to use.\n",
    "\n",
    "Note: You should not impute data for your target column, it is preferable to drop the rows where the target value is missing."
   ]
  },
  {
   "cell_type": "markdown",
   "id": "1a39ce2e",
   "metadata": {},
   "source": [
    "#### Mean imputation\n",
    "For the first value, we see that the values are continous\n",
    "Therefore, apply the \"mean\" imputation"
   ]
  },
  {
   "cell_type": "code",
   "execution_count": 14,
   "id": "d926faff",
   "metadata": {},
   "outputs": [
    {
     "data": {
      "text/plain": [
       "0     39450.0\n",
       "1    138191.0\n",
       "2     71438.0\n",
       "3     34174.0\n",
       "4     23712.0\n",
       "Name: Annual Income (USD), dtype: float64"
      ]
     },
     "metadata": {},
     "output_type": "display_data"
    }
   ],
   "source": [
    "display(table[\"Annual Income (USD)\"].head())\n",
    "table = sidekick.impute_values(table, columns=\"Annual Income (USD)\", method=\"mean\") # TODO warning message"
   ]
  },
  {
   "cell_type": "markdown",
   "id": "52079343",
   "metadata": {},
   "source": [
    "We can see now that the values have been filled in"
   ]
  },
  {
   "cell_type": "code",
   "execution_count": 15,
   "id": "1ff3bd32",
   "metadata": {},
   "outputs": [
    {
     "data": {
      "text/plain": [
       "0     39450.0\n",
       "1    138191.0\n",
       "2     71438.0\n",
       "3     34174.0\n",
       "4     23712.0\n",
       "Name: Annual Income (USD), dtype: float64"
      ]
     },
     "metadata": {},
     "output_type": "display_data"
    }
   ],
   "source": [
    "display(table[\"Annual Income (USD)\"].head())"
   ]
  },
  {
   "cell_type": "markdown",
   "id": "95b2c3f6",
   "metadata": {},
   "source": [
    "#### Mode imputation"
   ]
  },
  {
   "cell_type": "code",
   "execution_count": 16,
   "id": "2877a8ad",
   "metadata": {},
   "outputs": [
    {
     "data": {
      "text/html": [
       "<div>\n",
       "<style scoped>\n",
       "    .dataframe tbody tr th:only-of-type {\n",
       "        vertical-align: middle;\n",
       "    }\n",
       "\n",
       "    .dataframe tbody tr th {\n",
       "        vertical-align: top;\n",
       "    }\n",
       "\n",
       "    .dataframe thead th {\n",
       "        text-align: right;\n",
       "    }\n",
       "</style>\n",
       "<table border=\"1\" class=\"dataframe\">\n",
       "  <thead>\n",
       "    <tr style=\"text-align: right;\">\n",
       "      <th></th>\n",
       "      <th>Not Missing</th>\n",
       "      <th>Total Missing</th>\n",
       "      <th>% Missing</th>\n",
       "      <th>Column Types</th>\n",
       "    </tr>\n",
       "  </thead>\n",
       "  <tbody>\n",
       "    <tr>\n",
       "      <th>Previously Bought insurance</th>\n",
       "      <td>39750</td>\n",
       "      <td>5004</td>\n",
       "      <td>11.181123</td>\n",
       "      <td>float64</td>\n",
       "    </tr>\n",
       "    <tr>\n",
       "      <th>Industry</th>\n",
       "      <td>42218</td>\n",
       "      <td>3770</td>\n",
       "      <td>8.197791</td>\n",
       "      <td>object</td>\n",
       "    </tr>\n",
       "    <tr>\n",
       "      <th>Insurance Score</th>\n",
       "      <td>48782</td>\n",
       "      <td>488</td>\n",
       "      <td>0.990461</td>\n",
       "      <td>float64</td>\n",
       "    </tr>\n",
       "    <tr>\n",
       "      <th>index</th>\n",
       "      <td>49758</td>\n",
       "      <td>0</td>\n",
       "      <td>0.000000</td>\n",
       "      <td>int64</td>\n",
       "    </tr>\n",
       "    <tr>\n",
       "      <th>Age</th>\n",
       "      <td>49758</td>\n",
       "      <td>0</td>\n",
       "      <td>0.000000</td>\n",
       "      <td>int64</td>\n",
       "    </tr>\n",
       "    <tr>\n",
       "      <th>Sex</th>\n",
       "      <td>49758</td>\n",
       "      <td>0</td>\n",
       "      <td>0.000000</td>\n",
       "      <td>object</td>\n",
       "    </tr>\n",
       "    <tr>\n",
       "      <th>Number of Dependents</th>\n",
       "      <td>49758</td>\n",
       "      <td>0</td>\n",
       "      <td>0.000000</td>\n",
       "      <td>object</td>\n",
       "    </tr>\n",
       "    <tr>\n",
       "      <th>Has Chronic Disease</th>\n",
       "      <td>49758</td>\n",
       "      <td>0</td>\n",
       "      <td>0.000000</td>\n",
       "      <td>int64</td>\n",
       "    </tr>\n",
       "    <tr>\n",
       "      <th>Employment type</th>\n",
       "      <td>49758</td>\n",
       "      <td>0</td>\n",
       "      <td>0.000000</td>\n",
       "      <td>object</td>\n",
       "    </tr>\n",
       "    <tr>\n",
       "      <th>Annual Income (USD)</th>\n",
       "      <td>49758</td>\n",
       "      <td>0</td>\n",
       "      <td>0.000000</td>\n",
       "      <td>float64</td>\n",
       "    </tr>\n",
       "    <tr>\n",
       "      <th>Insurance Level</th>\n",
       "      <td>49758</td>\n",
       "      <td>0</td>\n",
       "      <td>0.000000</td>\n",
       "      <td>object</td>\n",
       "    </tr>\n",
       "    <tr>\n",
       "      <th>Date</th>\n",
       "      <td>49758</td>\n",
       "      <td>0</td>\n",
       "      <td>0.000000</td>\n",
       "      <td>object</td>\n",
       "    </tr>\n",
       "    <tr>\n",
       "      <th>Insured</th>\n",
       "      <td>49758</td>\n",
       "      <td>0</td>\n",
       "      <td>0.000000</td>\n",
       "      <td>bool</td>\n",
       "    </tr>\n",
       "    <tr>\n",
       "      <th>Set</th>\n",
       "      <td>49758</td>\n",
       "      <td>0</td>\n",
       "      <td>0.000000</td>\n",
       "      <td>object</td>\n",
       "    </tr>\n",
       "  </tbody>\n",
       "</table>\n",
       "</div>"
      ],
      "text/plain": [
       "                             Not Missing  Total Missing  % Missing  \\\n",
       "Previously Bought insurance        39750           5004  11.181123   \n",
       "Industry                           42218           3770   8.197791   \n",
       "Insurance Score                    48782            488   0.990461   \n",
       "index                              49758              0   0.000000   \n",
       "Age                                49758              0   0.000000   \n",
       "Sex                                49758              0   0.000000   \n",
       "Number of Dependents               49758              0   0.000000   \n",
       "Has Chronic Disease                49758              0   0.000000   \n",
       "Employment type                    49758              0   0.000000   \n",
       "Annual Income (USD)                49758              0   0.000000   \n",
       "Insurance Level                    49758              0   0.000000   \n",
       "Date                               49758              0   0.000000   \n",
       "Insured                            49758              0   0.000000   \n",
       "Set                                49758              0   0.000000   \n",
       "\n",
       "                            Column Types  \n",
       "Previously Bought insurance      float64  \n",
       "Industry                          object  \n",
       "Insurance Score                  float64  \n",
       "index                              int64  \n",
       "Age                                int64  \n",
       "Sex                               object  \n",
       "Number of Dependents              object  \n",
       "Has Chronic Disease                int64  \n",
       "Employment type                   object  \n",
       "Annual Income (USD)              float64  \n",
       "Insurance Level                   object  \n",
       "Date                              object  \n",
       "Insured                             bool  \n",
       "Set                               object  "
      ]
     },
     "metadata": {},
     "output_type": "display_data"
    },
    {
     "data": {
      "text/plain": [
       "0           Retail\n",
       "1               IT\n",
       "2    Manufacturing\n",
       "3           Retail\n",
       "4           Retail\n",
       "Name: Industry, dtype: object"
      ]
     },
     "metadata": {},
     "output_type": "display_data"
    },
    {
     "data": {
      "text/plain": [
       "0           Retail\n",
       "1               IT\n",
       "2    Manufacturing\n",
       "3           Retail\n",
       "4           Retail\n",
       "Name: Industry, dtype: object"
      ]
     },
     "metadata": {},
     "output_type": "display_data"
    }
   ],
   "source": [
    "display(sidekick.show_summary(table))\n",
    "display(table[\"Industry\"].head())\n",
    "table = sidekick.impute_values(table, columns=\"Industry\", method=\"mode\")\n",
    "display(table[\"Industry\"].head())"
   ]
  },
  {
   "cell_type": "markdown",
   "id": "3b68abb6",
   "metadata": {},
   "source": [
    "#### Replace with values imputation"
   ]
  },
  {
   "cell_type": "code",
   "execution_count": 17,
   "id": "1cce54bb",
   "metadata": {},
   "outputs": [
    {
     "data": {
      "text/plain": [
       "0        0.0\n",
       "1        0.0\n",
       "2        1.0\n",
       "3        0.0\n",
       "4        0.0\n",
       "        ... \n",
       "49753    1.0\n",
       "49754    1.0\n",
       "49755    0.0\n",
       "49756    0.0\n",
       "49757    0.0\n",
       "Name: Previously Bought insurance, Length: 49758, dtype: float64"
      ]
     },
     "metadata": {},
     "output_type": "display_data"
    },
    {
     "data": {
      "text/plain": [
       "0    0.0\n",
       "1    0.0\n",
       "2    1.0\n",
       "3    0.0\n",
       "4    0.0\n",
       "Name: Previously Bought insurance, dtype: float64"
      ]
     },
     "metadata": {},
     "output_type": "display_data"
    }
   ],
   "source": [
    "display(table[\"Previously Bought insurance\"])\n",
    "table = sidekick.impute_values(\n",
    "    table, columns=\"Previously Bought insurance\", method=\"replace\", value=0\n",
    ")\n",
    "display(table[\"Previously Bought insurance\"].head())"
   ]
  },
  {
   "cell_type": "markdown",
   "id": "1b650fbd",
   "metadata": {},
   "source": [
    "#### Drop missing values"
   ]
  },
  {
   "cell_type": "code",
   "execution_count": 18,
   "id": "e2cc4d62",
   "metadata": {},
   "outputs": [
    {
     "data": {
      "text/plain": [
       "0    39.0\n",
       "1    62.0\n",
       "2    54.0\n",
       "3    44.0\n",
       "4    18.0\n",
       "Name: Insurance Score, dtype: float64"
      ]
     },
     "metadata": {},
     "output_type": "display_data"
    }
   ],
   "source": [
    "display(table[\"Insurance Score\"].head())\n",
    "table = sidekick.impute_values(table, columns=\"Insurance Score\", method=\"drop\")"
   ]
  },
  {
   "cell_type": "markdown",
   "id": "3f76c144",
   "metadata": {},
   "source": [
    "There also is a method for dropping missing values"
   ]
  },
  {
   "cell_type": "code",
   "execution_count": 19,
   "id": "0532fe95",
   "metadata": {},
   "outputs": [],
   "source": [
    "table = sidekick.impute_values(table, columns=[\"Previously Bought insurance\"])"
   ]
  },
  {
   "cell_type": "markdown",
   "id": "55f8f2c0",
   "metadata": {},
   "source": [
    "Or even drop multiple columns"
   ]
  },
  {
   "cell_type": "code",
   "execution_count": 20,
   "id": "7f51f459",
   "metadata": {},
   "outputs": [],
   "source": [
    "table = sidekick.impute_values(\n",
    "    table, columns=[\"Previously Bought insurance\", \"Insurance Score\"]\n",
    ")"
   ]
  },
  {
   "cell_type": "markdown",
   "id": "9ad7e17c",
   "metadata": {},
   "source": [
    "You can even drop all rows with missing values at once (two different, but valid ways)!"
   ]
  },
  {
   "cell_type": "code",
   "execution_count": 21,
   "id": "34f1eff9",
   "metadata": {},
   "outputs": [],
   "source": [
    "table = sidekick.impute_values(\n",
    "    table, columns=table.columns, target=\"Insurance Level\", method=\"drop\"\n",
    ")\n",
    "table = sidekick.drop_missing_values(table)"
   ]
  },
  {
   "cell_type": "markdown",
   "id": "54467011",
   "metadata": {},
   "source": [
    "#### TODO: Auto impute\n",
    "We also have an automatic imputation, that will try to guess the imputation to be done per column.\n",
    "This, or dropping rows, is usually the simplest and fastest solution\n",
    "This method is set bu default, so passing `method='auto'` and leaving it out is equivalent"
   ]
  },
  {
   "cell_type": "code",
   "execution_count": 22,
   "id": "d0b0588d",
   "metadata": {},
   "outputs": [],
   "source": [
    "table = sidekick.impute_values(table, columns=table.columns, target=\"Insurance Level\")\n",
    "table = sidekick.impute_values(\n",
    "    table, columns=table.columns, target=\"Insurance Level\", method=\"auto\"\n",
    ")"
   ]
  },
  {
   "cell_type": "markdown",
   "id": "71360119",
   "metadata": {},
   "source": [
    "#### After having imputed or removed the missing data, we make sure that we no longer have any"
   ]
  },
  {
   "cell_type": "code",
   "execution_count": 23,
   "id": "465e3ce4",
   "metadata": {},
   "outputs": [
    {
     "data": {
      "text/html": [
       "<div>\n",
       "<style scoped>\n",
       "    .dataframe tbody tr th:only-of-type {\n",
       "        vertical-align: middle;\n",
       "    }\n",
       "\n",
       "    .dataframe tbody tr th {\n",
       "        vertical-align: top;\n",
       "    }\n",
       "\n",
       "    .dataframe thead th {\n",
       "        text-align: right;\n",
       "    }\n",
       "</style>\n",
       "<table border=\"1\" class=\"dataframe\">\n",
       "  <thead>\n",
       "    <tr style=\"text-align: right;\">\n",
       "      <th></th>\n",
       "      <th>Not Missing</th>\n",
       "      <th>Total Missing</th>\n",
       "      <th>% Missing</th>\n",
       "      <th>Column Types</th>\n",
       "    </tr>\n",
       "  </thead>\n",
       "  <tbody>\n",
       "    <tr>\n",
       "      <th>index</th>\n",
       "      <td>49270</td>\n",
       "      <td>0</td>\n",
       "      <td>0.0</td>\n",
       "      <td>float64</td>\n",
       "    </tr>\n",
       "    <tr>\n",
       "      <th>Age</th>\n",
       "      <td>49270</td>\n",
       "      <td>0</td>\n",
       "      <td>0.0</td>\n",
       "      <td>float64</td>\n",
       "    </tr>\n",
       "    <tr>\n",
       "      <th>Sex</th>\n",
       "      <td>49270</td>\n",
       "      <td>0</td>\n",
       "      <td>0.0</td>\n",
       "      <td>object</td>\n",
       "    </tr>\n",
       "    <tr>\n",
       "      <th>Number of Dependents</th>\n",
       "      <td>49270</td>\n",
       "      <td>0</td>\n",
       "      <td>0.0</td>\n",
       "      <td>object</td>\n",
       "    </tr>\n",
       "    <tr>\n",
       "      <th>Has Chronic Disease</th>\n",
       "      <td>49270</td>\n",
       "      <td>0</td>\n",
       "      <td>0.0</td>\n",
       "      <td>float64</td>\n",
       "    </tr>\n",
       "    <tr>\n",
       "      <th>Employment type</th>\n",
       "      <td>49270</td>\n",
       "      <td>0</td>\n",
       "      <td>0.0</td>\n",
       "      <td>object</td>\n",
       "    </tr>\n",
       "    <tr>\n",
       "      <th>Industry</th>\n",
       "      <td>49270</td>\n",
       "      <td>0</td>\n",
       "      <td>0.0</td>\n",
       "      <td>object</td>\n",
       "    </tr>\n",
       "    <tr>\n",
       "      <th>Annual Income (USD)</th>\n",
       "      <td>49270</td>\n",
       "      <td>0</td>\n",
       "      <td>0.0</td>\n",
       "      <td>float64</td>\n",
       "    </tr>\n",
       "    <tr>\n",
       "      <th>Previously Bought insurance</th>\n",
       "      <td>49270</td>\n",
       "      <td>0</td>\n",
       "      <td>0.0</td>\n",
       "      <td>float64</td>\n",
       "    </tr>\n",
       "    <tr>\n",
       "      <th>Insurance Score</th>\n",
       "      <td>49270</td>\n",
       "      <td>0</td>\n",
       "      <td>0.0</td>\n",
       "      <td>float64</td>\n",
       "    </tr>\n",
       "    <tr>\n",
       "      <th>Insurance Level</th>\n",
       "      <td>49270</td>\n",
       "      <td>0</td>\n",
       "      <td>0.0</td>\n",
       "      <td>object</td>\n",
       "    </tr>\n",
       "    <tr>\n",
       "      <th>Date</th>\n",
       "      <td>49270</td>\n",
       "      <td>0</td>\n",
       "      <td>0.0</td>\n",
       "      <td>object</td>\n",
       "    </tr>\n",
       "    <tr>\n",
       "      <th>Insured</th>\n",
       "      <td>49270</td>\n",
       "      <td>0</td>\n",
       "      <td>0.0</td>\n",
       "      <td>object</td>\n",
       "    </tr>\n",
       "    <tr>\n",
       "      <th>Set</th>\n",
       "      <td>49270</td>\n",
       "      <td>0</td>\n",
       "      <td>0.0</td>\n",
       "      <td>object</td>\n",
       "    </tr>\n",
       "  </tbody>\n",
       "</table>\n",
       "</div>"
      ],
      "text/plain": [
       "                             Not Missing  Total Missing  % Missing  \\\n",
       "index                              49270              0        0.0   \n",
       "Age                                49270              0        0.0   \n",
       "Sex                                49270              0        0.0   \n",
       "Number of Dependents               49270              0        0.0   \n",
       "Has Chronic Disease                49270              0        0.0   \n",
       "Employment type                    49270              0        0.0   \n",
       "Industry                           49270              0        0.0   \n",
       "Annual Income (USD)                49270              0        0.0   \n",
       "Previously Bought insurance        49270              0        0.0   \n",
       "Insurance Score                    49270              0        0.0   \n",
       "Insurance Level                    49270              0        0.0   \n",
       "Date                               49270              0        0.0   \n",
       "Insured                            49270              0        0.0   \n",
       "Set                                49270              0        0.0   \n",
       "\n",
       "                            Column Types  \n",
       "index                            float64  \n",
       "Age                              float64  \n",
       "Sex                               object  \n",
       "Number of Dependents              object  \n",
       "Has Chronic Disease              float64  \n",
       "Employment type                   object  \n",
       "Industry                          object  \n",
       "Annual Income (USD)              float64  \n",
       "Previously Bought insurance      float64  \n",
       "Insurance Score                  float64  \n",
       "Insurance Level                   object  \n",
       "Date                              object  \n",
       "Insured                           object  \n",
       "Set                               object  "
      ]
     },
     "metadata": {},
     "output_type": "display_data"
    }
   ],
   "source": [
    "display(sidekick.show_summary(table))"
   ]
  },
  {
   "cell_type": "markdown",
   "id": "e2178809",
   "metadata": {},
   "source": [
    "# TODO column types\n",
    "# TODO replace value in column (\"1\" vs 1)"
   ]
  },
  {
   "cell_type": "markdown",
   "id": "dfd20ecc",
   "metadata": {},
   "source": [
    "# Class imbalance\n",
    "## What is the problem?\n",
    "Having imbalanced classes can lead to deceptively good looking model performance, and undesirable model behaviour. \n",
    "For example in a binary classification scenarion, if your data consists of 90% class 1 and 10 % class 2, a model that learns to always predict class 1 will have a 90% accuracy.\n",
    "## How do you detect the problem?\n",
    "The simplest way is to plot your target column as we did above\n",
    "Also, The percentages of specific classes can be calculated as such:"
   ]
  },
  {
   "cell_type": "code",
   "execution_count": 24,
   "id": "c005f33c",
   "metadata": {},
   "outputs": [
    {
     "data": {
      "text/plain": [
       "Silver    0.545109\n",
       "Bronze    0.236356\n",
       "Gold      0.218535\n",
       "Name: Insurance Level, dtype: float64"
      ]
     },
     "metadata": {},
     "output_type": "display_data"
    }
   ],
   "source": [
    "display(df['Insurance Level'].value_counts(normalize=True))"
   ]
  },
  {
   "cell_type": "markdown",
   "id": "3f3f03b4",
   "metadata": {},
   "source": [
    "In this dataset the data is clearly imbalanced, with the Silver class consisting of more data than the other two classes combined."
   ]
  },
  {
   "cell_type": "markdown",
   "id": "61ae51fc",
   "metadata": {},
   "source": [
    "## How do you deal with the problem?\n",
    "There are a few ways of tackling imbalanced classes: See the imbalanced data sections here: https://peltarion.com/knowledge-center/documentation/datasets-view/data-preprocessing/tabular-data-preprocessing\n",
    "It is important to be aware that you have imbalanced classes, because this indicates that metrics such as accuracy are not good indicators of model performance.\n",
    "Here are some suggestions for more suitable metrics to focus here: https://peltarion.com/knowledge-center/documentation/evaluation-view/measure-performance-when-working-with-imbalanced-data"
   ]
  }
 ],
 "metadata": {
  "kernelspec": {
   "display_name": "tab",
   "language": "python",
   "name": "tab"
  },
  "language_info": {
   "codemirror_mode": {
    "name": "ipython",
    "version": 3
   },
   "file_extension": ".py",
   "mimetype": "text/x-python",
   "name": "python",
   "nbconvert_exporter": "python",
   "pygments_lexer": "ipython3",
   "version": "3.8.12"
  }
 },
 "nbformat": 4,
 "nbformat_minor": 5
}
